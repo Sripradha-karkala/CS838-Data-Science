{
 "cells": [
  {
   "cell_type": "code",
   "execution_count": 6,
   "metadata": {
    "collapsed": false,
    "deletable": true,
    "editable": true
   },
   "outputs": [],
   "source": [
    "import py_entitymatching as em\n",
    "import pandas as pd\n",
    "import os, sys\n",
    "import logging\n",
    "from os.path import expanduser\n",
    "import argparse\n"
   ]
  },
  {
   "cell_type": "code",
   "execution_count": 7,
   "metadata": {
    "collapsed": false,
    "deletable": true,
    "editable": true
   },
   "outputs": [
    {
     "name": "stderr",
     "output_type": "stream",
     "text": [
      "usage: __main__.py [-h] [--f1 F1]\n",
      "__main__.py: error: unrecognized arguments: - - f 1   s o n g s . c s v\n"
     ]
    },
    {
     "ename": "SystemExit",
     "evalue": "2",
     "output_type": "error",
     "traceback": [
      "An exception has occurred, use %tb to see the full traceback.\n",
      "\u001b[0;31mSystemExit\u001b[0m\u001b[0;31m:\u001b[0m 2\n"
     ]
    },
    {
     "name": "stderr",
     "output_type": "stream",
     "text": [
      "/usr/local/lib/python3.6/site-packages/IPython/core/interactiveshell.py:2889: UserWarning: To exit: use 'exit', 'quit', or Ctrl-D.\n",
      "  warn(\"To exit: use 'exit', 'quit', or Ctrl-D.\", stacklevel=1)\n"
     ]
    }
   ],
   "source": [
    "# Add command line arguments for path to files\n",
    "parser = argparse.ArgumentParser()\n",
    "parser.add_argument('path_a', help='Path to the left table', type=str)\n",
    "parser.add_argument('path_B', help='Path to the right table', type = str)\n",
    "parser.add_argument('path_G', help='Path to the labelled dataset', type =str)\n",
    "args = parser.parse_args()"
   ]
  },
  {
   "cell_type": "code",
   "execution_count": 3,
   "metadata": {
    "collapsed": false,
    "deletable": true,
    "editable": true
   },
   "outputs": [
    {
     "ename": "NameError",
     "evalue": "name 'args' is not defined",
     "output_type": "error",
     "traceback": [
      "\u001b[0;31m---------------------------------------------------------------------------\u001b[0m",
      "\u001b[0;31mNameError\u001b[0m                                 Traceback (most recent call last)",
      "\u001b[0;32m<ipython-input-3-da6b170db8c5>\u001b[0m in \u001b[0;36m<module>\u001b[0;34m()\u001b[0m\n\u001b[1;32m      3\u001b[0m \u001b[0;34m\u001b[0m\u001b[0m\n\u001b[1;32m      4\u001b[0m \u001b[0;31m# Set paths\u001b[0m\u001b[0;34m\u001b[0m\u001b[0;34m\u001b[0m\u001b[0m\n\u001b[0;32m----> 5\u001b[0;31m \u001b[0mpath_A\u001b[0m \u001b[0;34m=\u001b[0m \u001b[0margs\u001b[0m\u001b[0;34m.\u001b[0m\u001b[0mpath_A\u001b[0m\u001b[0;34m\u001b[0m\u001b[0m\n\u001b[0m\u001b[1;32m      6\u001b[0m \u001b[0mpath_B\u001b[0m \u001b[0;34m=\u001b[0m \u001b[0margs\u001b[0m\u001b[0;34m.\u001b[0m\u001b[0mpath_B\u001b[0m\u001b[0;34m\u001b[0m\u001b[0m\n\u001b[1;32m      7\u001b[0m \u001b[0mpath_G\u001b[0m \u001b[0;34m=\u001b[0m \u001b[0margs\u001b[0m\u001b[0;34m.\u001b[0m\u001b[0mpath_G\u001b[0m\u001b[0;34m\u001b[0m\u001b[0m\n",
      "\u001b[0;31mNameError\u001b[0m: name 'args' is not defined"
     ]
    }
   ],
   "source": [
    "# Set up logger\n",
    "logging.basicConfig()\n",
    "\n",
    "# Set paths\n",
    "path_A = args.path_A\n",
    "path_B = args.path_B\n",
    "path_G = args.path_G"
   ]
  },
  {
   "cell_type": "code",
   "execution_count": 4,
   "metadata": {
    "collapsed": false,
    "deletable": true,
    "editable": true
   },
   "outputs": [
    {
     "name": "stderr",
     "output_type": "stream",
     "text": [
      "WARNING:py_entitymatching.io.parsers:Metadata file is not present in the given path; proceeding to read the csv file.\n"
     ]
    }
   ],
   "source": [
    "# Read csv file\n",
    "A = em.read_csv_metadata(path_A)"
   ]
  },
  {
   "cell_type": "code",
   "execution_count": 5,
   "metadata": {
    "collapsed": false,
    "deletable": true,
    "editable": true
   },
   "outputs": [
    {
     "data": {
      "text/html": [
       "<div>\n",
       "<table border=\"1\" class=\"dataframe\">\n",
       "  <thead>\n",
       "    <tr style=\"text-align: right;\">\n",
       "      <th></th>\n",
       "      <th>id</th>\n",
       "      <th>title</th>\n",
       "      <th>artist_name</th>\n",
       "      <th>year</th>\n",
       "    </tr>\n",
       "  </thead>\n",
       "  <tbody>\n",
       "    <tr>\n",
       "      <th>0</th>\n",
       "      <td>0</td>\n",
       "      <td>Hawaii Blues (Album Version)</td>\n",
       "      <td>Commander Cody And His Lost Planet Airmen</td>\n",
       "      <td>0</td>\n",
       "    </tr>\n",
       "    <tr>\n",
       "      <th>1</th>\n",
       "      <td>1</td>\n",
       "      <td>Miss Universe</td>\n",
       "      <td>Astream</td>\n",
       "      <td>0</td>\n",
       "    </tr>\n",
       "    <tr>\n",
       "      <th>2</th>\n",
       "      <td>2</td>\n",
       "      <td>That Special Part Of Me (Percussion Mix)</td>\n",
       "      <td>Onaje Allan Gumbs</td>\n",
       "      <td>0</td>\n",
       "    </tr>\n",
       "    <tr>\n",
       "      <th>3</th>\n",
       "      <td>3</td>\n",
       "      <td>Thoughts Of You</td>\n",
       "      <td>Polyrhythm Addicts</td>\n",
       "      <td>2007</td>\n",
       "    </tr>\n",
       "    <tr>\n",
       "      <th>4</th>\n",
       "      <td>4</td>\n",
       "      <td>Americans</td>\n",
       "      <td>Eddie Izzard</td>\n",
       "      <td>2000</td>\n",
       "    </tr>\n",
       "  </tbody>\n",
       "</table>\n",
       "</div>"
      ],
      "text/plain": [
       "   id                                     title  \\\n",
       "0   0              Hawaii Blues (Album Version)   \n",
       "1   1                             Miss Universe   \n",
       "2   2  That Special Part Of Me (Percussion Mix)   \n",
       "3   3                           Thoughts Of You   \n",
       "4   4                                 Americans   \n",
       "\n",
       "                                 artist_name  year  \n",
       "0  Commander Cody And His Lost Planet Airmen     0  \n",
       "1                                    Astream     0  \n",
       "2                          Onaje Allan Gumbs     0  \n",
       "3                         Polyrhythm Addicts  2007  \n",
       "4                               Eddie Izzard  2000  "
      ]
     },
     "execution_count": 5,
     "metadata": {},
     "output_type": "execute_result"
    }
   ],
   "source": [
    "#A.head()"
   ]
  },
  {
   "cell_type": "code",
   "execution_count": 6,
   "metadata": {
    "collapsed": false,
    "deletable": true,
    "editable": true
   },
   "outputs": [
    {
     "data": {
      "text/plain": [
       "pandas.core.frame.DataFrame"
      ]
     },
     "execution_count": 6,
     "metadata": {},
     "output_type": "execute_result"
    }
   ],
   "source": [
    "#type(A)"
   ]
  },
  {
   "cell_type": "code",
   "execution_count": 7,
   "metadata": {
    "collapsed": false,
    "deletable": true,
    "editable": true
   },
   "outputs": [
    {
     "data": {
      "text/plain": [
       "True"
      ]
     },
     "execution_count": 7,
     "metadata": {},
     "output_type": "execute_result"
    }
   ],
   "source": [
    "em.set_key(A, 'id')"
   ]
  },
  {
   "cell_type": "code",
   "execution_count": 8,
   "metadata": {
    "collapsed": false,
    "deletable": true,
    "editable": true
   },
   "outputs": [
    {
     "data": {
      "text/plain": [
       "'id'"
      ]
     },
     "execution_count": 8,
     "metadata": {},
     "output_type": "execute_result"
    }
   ],
   "source": [
    "# Get the metadata that was set for table A\n",
    "#em.get_key(A)"
   ]
  },
  {
   "cell_type": "code",
   "execution_count": 9,
   "metadata": {
    "collapsed": false,
    "deletable": true,
    "editable": true
   },
   "outputs": [
    {
     "name": "stderr",
     "output_type": "stream",
     "text": [
      "WARNING:py_entitymatching.io.parsers:Metadata file is not present in the given path; proceeding to read the csv file.\n",
      "/usr/local/lib/python3.6/site-packages/IPython/core/interactiveshell.py:2821: DtypeWarning: Columns (3) have mixed types. Specify dtype option on import or set low_memory=False.\n",
      "  if self.run_code(code, result):\n"
     ]
    }
   ],
   "source": [
    "# Read and set metadata for table B\n",
    "B = em.read_csv_metadata(path_B, key='id')"
   ]
  },
  {
   "cell_type": "code",
   "execution_count": 10,
   "metadata": {
    "collapsed": false,
    "deletable": true,
    "editable": true
   },
   "outputs": [
    {
     "data": {
      "text/plain": [
       "pandas.core.frame.DataFrame"
      ]
     },
     "execution_count": 10,
     "metadata": {},
     "output_type": "execute_result"
    }
   ],
   "source": [
    "# Display the 'type' of B\n",
    "#type(B)"
   ]
  },
  {
   "cell_type": "code",
   "execution_count": 11,
   "metadata": {
    "collapsed": false,
    "deletable": true,
    "editable": true
   },
   "outputs": [
    {
     "data": {
      "text/html": [
       "<div>\n",
       "<table border=\"1\" class=\"dataframe\">\n",
       "  <thead>\n",
       "    <tr style=\"text-align: right;\">\n",
       "      <th></th>\n",
       "      <th>id</th>\n",
       "      <th>title</th>\n",
       "      <th>year</th>\n",
       "      <th>episode</th>\n",
       "      <th>song</th>\n",
       "      <th>artists</th>\n",
       "    </tr>\n",
       "  </thead>\n",
       "  <tbody>\n",
       "    <tr>\n",
       "      <th>0</th>\n",
       "      <td>0</td>\n",
       "      <td>#JustDating</td>\n",
       "      <td>2014.0</td>\n",
       "      <td>Pilot (#1.1)</td>\n",
       "      <td>Wait Up (Boots of Danger)</td>\n",
       "      <td>tokyo police club</td>\n",
       "    </tr>\n",
       "    <tr>\n",
       "      <th>1</th>\n",
       "      <td>1</td>\n",
       "      <td>#LawstinWoods</td>\n",
       "      <td>2013.0</td>\n",
       "      <td>The Incident (#1.6)</td>\n",
       "      <td>This Is the End (I Dont Want You Back)</td>\n",
       "      <td>bradley voorhees</td>\n",
       "    </tr>\n",
       "    <tr>\n",
       "      <th>2</th>\n",
       "      <td>2</td>\n",
       "      <td>#LawstinWoods</td>\n",
       "      <td>2013.0</td>\n",
       "      <td>The Loop &amp; Rocks (#1.9)} {{SUSPENDED}</td>\n",
       "      <td>Unable to Let Go</td>\n",
       "      <td>bradley voorhees+mj rhythm</td>\n",
       "    </tr>\n",
       "    <tr>\n",
       "      <th>3</th>\n",
       "      <td>3</td>\n",
       "      <td>#LawstinWoods</td>\n",
       "      <td>2013.0</td>\n",
       "      <td>The Neverending Day (#1.13)</td>\n",
       "      <td>You Forgot My Birthday</td>\n",
       "      <td>bradley voorhees+joshua p. kennedy</td>\n",
       "    </tr>\n",
       "    <tr>\n",
       "      <th>4</th>\n",
       "      <td>4</td>\n",
       "      <td>#iGOTSHAPES</td>\n",
       "      <td>2012.0</td>\n",
       "      <td>Asha Rae (#1.8)</td>\n",
       "      <td>Fuzzy Border</td>\n",
       "      <td>jay shepheard</td>\n",
       "    </tr>\n",
       "  </tbody>\n",
       "</table>\n",
       "</div>"
      ],
      "text/plain": [
       "   id          title    year                                episode  \\\n",
       "0   0    #JustDating  2014.0                           Pilot (#1.1)   \n",
       "1   1  #LawstinWoods  2013.0                    The Incident (#1.6)   \n",
       "2   2  #LawstinWoods  2013.0  The Loop & Rocks (#1.9)} {{SUSPENDED}   \n",
       "3   3  #LawstinWoods  2013.0            The Neverending Day (#1.13)   \n",
       "4   4    #iGOTSHAPES  2012.0                        Asha Rae (#1.8)   \n",
       "\n",
       "                                     song                             artists  \n",
       "0               Wait Up (Boots of Danger)                   tokyo police club  \n",
       "1  This Is the End (I Dont Want You Back)                    bradley voorhees  \n",
       "2                        Unable to Let Go          bradley voorhees+mj rhythm  \n",
       "3                  You Forgot My Birthday  bradley voorhees+joshua p. kennedy  \n",
       "4                            Fuzzy Border                       jay shepheard  "
      ]
     },
     "execution_count": 11,
     "metadata": {},
     "output_type": "execute_result"
    }
   ],
   "source": [
    "#B.head()"
   ]
  },
  {
   "cell_type": "code",
   "execution_count": 12,
   "metadata": {
    "collapsed": false,
    "deletable": true,
    "editable": true
   },
   "outputs": [
    {
     "data": {
      "text/plain": [
       "'id'"
      ]
     },
     "execution_count": 12,
     "metadata": {},
     "output_type": "execute_result"
    }
   ],
   "source": [
    "# Get the metadata that was set for table B\n",
    "em.get_key(B)"
   ]
  },
  {
   "cell_type": "code",
   "execution_count": 13,
   "metadata": {
    "collapsed": false,
    "deletable": true,
    "editable": true
   },
   "outputs": [
    {
     "name": "stdout",
     "output_type": "stream",
     "text": [
      "Number of tuples in A: 961593\n",
      "Number of tuples in B: 734485\n",
      "Number of tuples in A X B (i.e the cartesian product): 706275634605\n"
     ]
    }
   ],
   "source": [
    "print('Number of tuples in A: ' + str(len(A)))\n",
    "print('Number of tuples in B: ' + str(len(B)))\n",
    "print('Number of tuples in A X B (i.e the cartesian product): ' + str(len(A)*len(B)))"
   ]
  },
  {
   "cell_type": "code",
   "execution_count": 14,
   "metadata": {
    "collapsed": false,
    "deletable": true,
    "editable": true
   },
   "outputs": [
    {
     "data": {
      "text/plain": [
       "id              int64\n",
       "title          object\n",
       "artist_name    object\n",
       "year            int64\n",
       "dtype: object"
      ]
     },
     "execution_count": 14,
     "metadata": {},
     "output_type": "execute_result"
    }
   ],
   "source": [
    "# Check how data is stored in pandas\n",
    "#A.dtypes"
   ]
  },
  {
   "cell_type": "code",
   "execution_count": 15,
   "metadata": {
    "collapsed": false,
    "deletable": true,
    "editable": true
   },
   "outputs": [
    {
     "data": {
      "text/plain": [
       "id           int64\n",
       "title       object\n",
       "year       float64\n",
       "episode     object\n",
       "song        object\n",
       "artists     object\n",
       "dtype: object"
      ]
     },
     "execution_count": 15,
     "metadata": {},
     "output_type": "execute_result"
    }
   ],
   "source": [
    "#B.dtypes"
   ]
  },
  {
   "cell_type": "code",
   "execution_count": 16,
   "metadata": {
    "collapsed": true,
    "deletable": true,
    "editable": true
   },
   "outputs": [],
   "source": [
    "ob = em.OverlapBlocker()"
   ]
  },
  {
   "cell_type": "code",
   "execution_count": 17,
   "metadata": {
    "collapsed": false,
    "deletable": true,
    "editable": true
   },
   "outputs": [
    {
     "name": "stdout",
     "output_type": "stream",
     "text": [
      "            id     title   artist_name  year\n",
      "489695  489695  Sabotage  Beastie Boys  1994\n"
     ]
    }
   ],
   "source": [
    "#tup1_temp = A.loc[A['id'] == 489695]\n",
    "#print (tup1_temp)"
   ]
  },
  {
   "cell_type": "code",
   "execution_count": 18,
   "metadata": {
    "collapsed": true,
    "deletable": true,
    "editable": true
   },
   "outputs": [],
   "source": [
    "tup1 = A.ix[76687]"
   ]
  },
  {
   "cell_type": "code",
   "execution_count": 19,
   "metadata": {
    "collapsed": false,
    "deletable": true,
    "editable": true
   },
   "outputs": [
    {
     "name": "stdout",
     "output_type": "stream",
     "text": [
      "          id                 title    year           episode      song  \\\n",
      "25112  25112  Beavis and Butt-Head  1993.0  Head Lice (#7.9)  Sabotage   \n",
      "\n",
      "            artists  \n",
      "25112  beastie boys  \n"
     ]
    }
   ],
   "source": [
    "#tup2_temp = B.loc[B['id'] == 25112]\n",
    "#print (tup2_temp)"
   ]
  },
  {
   "cell_type": "code",
   "execution_count": 20,
   "metadata": {
    "collapsed": true,
    "deletable": true,
    "editable": true
   },
   "outputs": [],
   "source": [
    "tup2 = B.ix[232514]"
   ]
  },
  {
   "cell_type": "code",
   "execution_count": 21,
   "metadata": {
    "collapsed": false,
    "deletable": true,
    "editable": true
   },
   "outputs": [],
   "source": [
    "# Apply blocking to a tuple pair from the input tables on artists name and get blocking status\n",
    "status = ob.block_tuples(tup1, tup2, 'artist_name', 'artists')"
   ]
  },
  {
   "cell_type": "code",
   "execution_count": 22,
   "metadata": {
    "collapsed": false,
    "deletable": true,
    "editable": true
   },
   "outputs": [
    {
     "name": "stdout",
     "output_type": "stream",
     "text": [
      "True\n"
     ]
    }
   ],
   "source": [
    "# Print the blocking status\n",
    "print(status)"
   ]
  },
  {
   "cell_type": "code",
   "execution_count": 23,
   "metadata": {
    "collapsed": false,
    "deletable": true,
    "editable": true
   },
   "outputs": [
    {
     "name": "stdout",
     "output_type": "stream",
     "text": [
      "True\n"
     ]
    }
   ],
   "source": [
    "# Apply blocking to a tuple pair from the input tables on artists and get blocking status\n",
    "status = ob.block_tuples(A.ix[0], B.ix[0], 'artist_name', 'artists')\n",
    "print(status)"
   ]
  },
  {
   "cell_type": "code",
   "execution_count": 24,
   "metadata": {
    "collapsed": false,
    "deletable": true,
    "editable": true
   },
   "outputs": [
    {
     "data": {
      "text/plain": [
       "id                                                     0\n",
       "title                       Hawaii Blues (Album Version)\n",
       "artist_name    Commander Cody And His Lost Planet Airmen\n",
       "year                                                   0\n",
       "Name: 0, dtype: object"
      ]
     },
     "execution_count": 24,
     "metadata": {},
     "output_type": "execute_result"
    }
   ],
   "source": [
    "#A.ix[0]"
   ]
  },
  {
   "cell_type": "code",
   "execution_count": 25,
   "metadata": {
    "collapsed": false,
    "deletable": true,
    "editable": true
   },
   "outputs": [
    {
     "data": {
      "text/plain": [
       "id                                 0\n",
       "title                    #JustDating\n",
       "year                            2014\n",
       "episode                 Pilot (#1.1)\n",
       "song       Wait Up (Boots of Danger)\n",
       "artists            tokyo police club\n",
       "Name: 0, dtype: object"
      ]
     },
     "execution_count": 25,
     "metadata": {},
     "output_type": "execute_result"
    }
   ],
   "source": [
    "#B.ix[0]"
   ]
  },
  {
   "cell_type": "code",
   "execution_count": 26,
   "metadata": {
    "collapsed": false,
    "deletable": true,
    "editable": true
   },
   "outputs": [
    {
     "name": "stderr",
     "output_type": "stream",
     "text": [
      "0%                          100%\n",
      "[##############################] | ETA: 00:49:07 | ETA: 00:44:57 | ETA: 00:36:43 | ETA: 00:31:40 | ETA: 00:28:11 | ETA: 00:25:20 | ETA: 00:23:09 | ETA: 00:21:41 | ETA: 00:20:26 | ETA: 00:19:03 | ETA: 00:17:52 | ETA: 00:16:43 | ETA: 00:15:35 | ETA: 00:14:34 | ETA: 00:13:37 | ETA: 00:12:39 | ETA: 00:11:40 | ETA: 00:10:43 | ETA: 00:09:48 | ETA: 00:08:54 | ETA: 00:07:57 | ETA: 00:07:02 | ETA: 00:06:10 | ETA: 00:05:17 | ETA: 00:04:23 | ETA: 00:03:30 | ETA: 00:02:37 | ETA: 00:01:45 | ETA: 00:00:52 | ETA: 00:00:00 | ETA: 00:00:00\n",
      "Total time elapsed: 00:26:25\n"
     ]
    }
   ],
   "source": [
    "sample_A, sample_B = em.down_sample(A, B, 15000, 1.5, show_progress=True, verbose=True)"
   ]
  },
  {
   "cell_type": "markdown",
   "metadata": {
    "deletable": true,
    "editable": true
   },
   "source": [
    "C1 = ob.block_tables(A, B, 'artist_name', 'artists', word_level=True, overlap_size=1, \n",
    "                    l_output_attrs=['id', 'title', 'artist_name', 'year'], \n",
    "                    r_output_attrs=['id', 'title', 'year', 'episode', 'song', 'artists'],\n",
    "                    show_progress=True)\n"
   ]
  },
  {
   "cell_type": "code",
   "execution_count": 26,
   "metadata": {
    "collapsed": false,
    "deletable": true,
    "editable": true
   },
   "outputs": [
    {
     "name": "stderr",
     "output_type": "stream",
     "text": [
      "UsageError: Unknown variable 'sample_A'\n"
     ]
    }
   ],
   "source": [
    "%store sample_A"
   ]
  },
  {
   "cell_type": "code",
   "execution_count": 27,
   "metadata": {
    "collapsed": false,
    "deletable": true,
    "editable": true
   },
   "outputs": [
    {
     "name": "stderr",
     "output_type": "stream",
     "text": [
      "UsageError: Unknown variable 'sample_B'\n"
     ]
    }
   ],
   "source": [
    "%store sample_B"
   ]
  },
  {
   "cell_type": "code",
   "execution_count": 28,
   "metadata": {
    "collapsed": false,
    "deletable": true,
    "editable": true
   },
   "outputs": [
    {
     "ename": "NameError",
     "evalue": "name 'sample_A' is not defined",
     "output_type": "error",
     "traceback": [
      "\u001b[0;31m---------------------------------------------------------------------------\u001b[0m",
      "\u001b[0;31mNameError\u001b[0m                                 Traceback (most recent call last)",
      "\u001b[0;32m<ipython-input-28-7e408d223415>\u001b[0m in \u001b[0;36m<module>\u001b[0;34m()\u001b[0m\n\u001b[0;32m----> 1\u001b[0;31m \u001b[0msample_A\u001b[0m\u001b[0;34m.\u001b[0m\u001b[0mhead\u001b[0m\u001b[0;34m(\u001b[0m\u001b[0;34m)\u001b[0m\u001b[0;34m\u001b[0m\u001b[0m\n\u001b[0m",
      "\u001b[0;31mNameError\u001b[0m: name 'sample_A' is not defined"
     ]
    }
   ],
   "source": [
    "#sample_A.head()"
   ]
  },
  {
   "cell_type": "code",
   "execution_count": 29,
   "metadata": {
    "collapsed": false,
    "deletable": true,
    "editable": true
   },
   "outputs": [
    {
     "ename": "NameError",
     "evalue": "name 'sample_B' is not defined",
     "output_type": "error",
     "traceback": [
      "\u001b[0;31m---------------------------------------------------------------------------\u001b[0m",
      "\u001b[0;31mNameError\u001b[0m                                 Traceback (most recent call last)",
      "\u001b[0;32m<ipython-input-29-395713ba1051>\u001b[0m in \u001b[0;36m<module>\u001b[0;34m()\u001b[0m\n\u001b[0;32m----> 1\u001b[0;31m \u001b[0msample_B\u001b[0m\u001b[0;34m.\u001b[0m\u001b[0mhead\u001b[0m\u001b[0;34m(\u001b[0m\u001b[0;34m)\u001b[0m\u001b[0;34m\u001b[0m\u001b[0m\n\u001b[0m",
      "\u001b[0;31mNameError\u001b[0m: name 'sample_B' is not defined"
     ]
    }
   ],
   "source": [
    "#sample_B.head()"
   ]
  },
  {
   "cell_type": "code",
   "execution_count": 31,
   "metadata": {
    "collapsed": false,
    "deletable": true,
    "editable": true
   },
   "outputs": [
    {
     "ename": "NameError",
     "evalue": "name 'sample_B' is not defined",
     "output_type": "error",
     "traceback": [
      "\u001b[0;31m---------------------------------------------------------------------------\u001b[0m",
      "\u001b[0;31mNameError\u001b[0m                                 Traceback (most recent call last)",
      "\u001b[0;32m<ipython-input-31-395713ba1051>\u001b[0m in \u001b[0;36m<module>\u001b[0;34m()\u001b[0m\n\u001b[0;32m----> 1\u001b[0;31m \u001b[0msample_B\u001b[0m\u001b[0;34m.\u001b[0m\u001b[0mhead\u001b[0m\u001b[0;34m(\u001b[0m\u001b[0;34m)\u001b[0m\u001b[0;34m\u001b[0m\u001b[0m\n\u001b[0m",
      "\u001b[0;31mNameError\u001b[0m: name 'sample_B' is not defined"
     ]
    }
   ],
   "source": [
    "#sample_B.head()"
   ]
  },
  {
   "cell_type": "code",
   "execution_count": 32,
   "metadata": {
    "collapsed": false,
    "deletable": true,
    "editable": true
   },
   "outputs": [
    {
     "data": {
      "text/plain": [
       "['a',\n",
       " 'an',\n",
       " 'and',\n",
       " 'are',\n",
       " 'as',\n",
       " 'at',\n",
       " 'be',\n",
       " 'by',\n",
       " 'for',\n",
       " 'from',\n",
       " 'has',\n",
       " 'he',\n",
       " 'in',\n",
       " 'is',\n",
       " 'it',\n",
       " 'its',\n",
       " 'on',\n",
       " 'that',\n",
       " 'the',\n",
       " 'to',\n",
       " 'was',\n",
       " 'were',\n",
       " 'will',\n",
       " 'with']"
      ]
     },
     "execution_count": 32,
     "metadata": {},
     "output_type": "execute_result"
    }
   ],
   "source": [
    "#ob.stop_words"
   ]
  },
  {
   "cell_type": "code",
   "execution_count": 33,
   "metadata": {
    "collapsed": true,
    "deletable": true,
    "editable": true
   },
   "outputs": [],
   "source": [
    "stop = ['de', 'del', 'du', 'of', 'la', 'le']"
   ]
  },
  {
   "cell_type": "code",
   "execution_count": 34,
   "metadata": {
    "collapsed": true,
    "deletable": true,
    "editable": true
   },
   "outputs": [],
   "source": [
    "for word in stop:\n",
    "    ob.stop_words.append(word)"
   ]
  },
  {
   "cell_type": "code",
   "execution_count": 35,
   "metadata": {
    "collapsed": false,
    "deletable": true,
    "editable": true
   },
   "outputs": [
    {
     "data": {
      "text/plain": [
       "['a',\n",
       " 'an',\n",
       " 'and',\n",
       " 'are',\n",
       " 'as',\n",
       " 'at',\n",
       " 'be',\n",
       " 'by',\n",
       " 'for',\n",
       " 'from',\n",
       " 'has',\n",
       " 'he',\n",
       " 'in',\n",
       " 'is',\n",
       " 'it',\n",
       " 'its',\n",
       " 'on',\n",
       " 'that',\n",
       " 'the',\n",
       " 'to',\n",
       " 'was',\n",
       " 'were',\n",
       " 'will',\n",
       " 'with',\n",
       " 'de',\n",
       " 'del',\n",
       " 'du',\n",
       " 'of',\n",
       " 'la',\n",
       " 'le']"
      ]
     },
     "execution_count": 35,
     "metadata": {},
     "output_type": "execute_result"
    }
   ],
   "source": [
    "ob.stop_words"
   ]
  },
  {
   "cell_type": "code",
   "execution_count": 36,
   "metadata": {
    "collapsed": false,
    "deletable": true,
    "editable": true
   },
   "outputs": [
    {
     "ename": "NameError",
     "evalue": "name 'sample_A' is not defined",
     "output_type": "error",
     "traceback": [
      "\u001b[0;31m---------------------------------------------------------------------------\u001b[0m",
      "\u001b[0;31mNameError\u001b[0m                                 Traceback (most recent call last)",
      "\u001b[0;32m<ipython-input-36-214e82507d16>\u001b[0m in \u001b[0;36m<module>\u001b[0;34m()\u001b[0m\n\u001b[0;32m----> 1\u001b[0;31m \u001b[0mC1\u001b[0m \u001b[0;34m=\u001b[0m \u001b[0mob\u001b[0m\u001b[0;34m.\u001b[0m\u001b[0mblock_tables\u001b[0m\u001b[0;34m(\u001b[0m\u001b[0msample_A\u001b[0m\u001b[0;34m,\u001b[0m \u001b[0msample_B\u001b[0m\u001b[0;34m,\u001b[0m \u001b[0;34m'artist_name'\u001b[0m\u001b[0;34m,\u001b[0m \u001b[0;34m'artists'\u001b[0m\u001b[0;34m,\u001b[0m \u001b[0mrem_stop_words\u001b[0m\u001b[0;34m=\u001b[0m\u001b[0;32mTrue\u001b[0m\u001b[0;34m,\u001b[0m \u001b[0mword_level\u001b[0m\u001b[0;34m=\u001b[0m\u001b[0;32mTrue\u001b[0m\u001b[0;34m,\u001b[0m \u001b[0moverlap_size\u001b[0m\u001b[0;34m=\u001b[0m\u001b[0;36m2\u001b[0m\u001b[0;34m,\u001b[0m \u001b[0ml_output_attrs\u001b[0m\u001b[0;34m=\u001b[0m\u001b[0;34m[\u001b[0m\u001b[0;34m'id'\u001b[0m\u001b[0;34m,\u001b[0m \u001b[0;34m'title'\u001b[0m\u001b[0;34m,\u001b[0m \u001b[0;34m'artist_name'\u001b[0m\u001b[0;34m,\u001b[0m \u001b[0;34m'year'\u001b[0m\u001b[0;34m]\u001b[0m\u001b[0;34m,\u001b[0m \u001b[0mr_output_attrs\u001b[0m\u001b[0;34m=\u001b[0m\u001b[0;34m[\u001b[0m\u001b[0;34m'id'\u001b[0m\u001b[0;34m,\u001b[0m \u001b[0;34m'title'\u001b[0m\u001b[0;34m,\u001b[0m \u001b[0;34m'year'\u001b[0m\u001b[0;34m,\u001b[0m \u001b[0;34m'episode'\u001b[0m\u001b[0;34m,\u001b[0m \u001b[0;34m'song'\u001b[0m\u001b[0;34m,\u001b[0m \u001b[0;34m'artists'\u001b[0m\u001b[0;34m]\u001b[0m\u001b[0;34m,\u001b[0m \u001b[0mshow_progress\u001b[0m\u001b[0;34m=\u001b[0m\u001b[0;32mTrue\u001b[0m\u001b[0;34m)\u001b[0m\u001b[0;34m\u001b[0m\u001b[0m\n\u001b[0m",
      "\u001b[0;31mNameError\u001b[0m: name 'sample_A' is not defined"
     ]
    }
   ],
   "source": [
    "C1 = ob.block_tables(sample_A, sample_B, 'artist_name', 'artists', rem_stop_words=True, word_level=True, overlap_size=2, l_output_attrs=['id', 'title', 'artist_name', 'year'], r_output_attrs=['id', 'title', 'year', 'episode', 'song', 'artists'], show_progress=True)"
   ]
  },
  {
   "cell_type": "code",
   "execution_count": 37,
   "metadata": {
    "collapsed": false,
    "deletable": true,
    "editable": true
   },
   "outputs": [
    {
     "ename": "NameError",
     "evalue": "name 'C1' is not defined",
     "output_type": "error",
     "traceback": [
      "\u001b[0;31m---------------------------------------------------------------------------\u001b[0m",
      "\u001b[0;31mNameError\u001b[0m                                 Traceback (most recent call last)",
      "\u001b[0;32m<ipython-input-37-1647e3595ae9>\u001b[0m in \u001b[0;36m<module>\u001b[0;34m()\u001b[0m\n\u001b[0;32m----> 1\u001b[0;31m \u001b[0mC1\u001b[0m\u001b[0;34m.\u001b[0m\u001b[0mhead\u001b[0m\u001b[0;34m(\u001b[0m\u001b[0;34m)\u001b[0m\u001b[0;34m\u001b[0m\u001b[0m\n\u001b[0m",
      "\u001b[0;31mNameError\u001b[0m: name 'C1' is not defined"
     ]
    }
   ],
   "source": [
    "#C1.head()"
   ]
  },
  {
   "cell_type": "code",
   "execution_count": 38,
   "metadata": {
    "collapsed": false,
    "deletable": true,
    "editable": true
   },
   "outputs": [
    {
     "ename": "NameError",
     "evalue": "name 'C1' is not defined",
     "output_type": "error",
     "traceback": [
      "\u001b[0;31m---------------------------------------------------------------------------\u001b[0m",
      "\u001b[0;31mNameError\u001b[0m                                 Traceback (most recent call last)",
      "\u001b[0;32m<ipython-input-38-23bcd14edb3c>\u001b[0m in \u001b[0;36m<module>\u001b[0;34m()\u001b[0m\n\u001b[0;32m----> 1\u001b[0;31m \u001b[0mstr\u001b[0m\u001b[0;34m(\u001b[0m\u001b[0mlen\u001b[0m\u001b[0;34m(\u001b[0m\u001b[0mC1\u001b[0m\u001b[0;34m)\u001b[0m\u001b[0;34m)\u001b[0m\u001b[0;34m\u001b[0m\u001b[0m\n\u001b[0m",
      "\u001b[0;31mNameError\u001b[0m: name 'C1' is not defined"
     ]
    }
   ],
   "source": [
    "print ('Number of tupes of blocking tables:' + str(len(C1)))"
   ]
  },
  {
   "cell_type": "code",
   "execution_count": 39,
   "metadata": {
    "collapsed": false,
    "deletable": true,
    "editable": true
   },
   "outputs": [
    {
     "name": "stderr",
     "output_type": "stream",
     "text": [
      "UsageError: Unknown variable 'C1'\n"
     ]
    }
   ],
   "source": [
    "%store C1"
   ]
  },
  {
   "cell_type": "code",
   "execution_count": 40,
   "metadata": {
    "collapsed": false,
    "deletable": true,
    "editable": true
   },
   "outputs": [
    {
     "ename": "NameError",
     "evalue": "name 'C1' is not defined",
     "output_type": "error",
     "traceback": [
      "\u001b[0;31m---------------------------------------------------------------------------\u001b[0m",
      "\u001b[0;31mNameError\u001b[0m                                 Traceback (most recent call last)",
      "\u001b[0;32m<ipython-input-40-e663b25bcc6c>\u001b[0m in \u001b[0;36m<module>\u001b[0;34m()\u001b[0m\n\u001b[0;32m----> 1\u001b[0;31m \u001b[0mS\u001b[0m \u001b[0;34m=\u001b[0m \u001b[0mem\u001b[0m\u001b[0;34m.\u001b[0m\u001b[0msample_table\u001b[0m\u001b[0;34m(\u001b[0m\u001b[0mC1\u001b[0m\u001b[0;34m,\u001b[0m \u001b[0;36m450\u001b[0m\u001b[0;34m)\u001b[0m\u001b[0;34m\u001b[0m\u001b[0m\n\u001b[0m",
      "\u001b[0;31mNameError\u001b[0m: name 'C1' is not defined"
     ]
    }
   ],
   "source": [
    "S = em.sample_table(C1, 450)"
   ]
  },
  {
   "cell_type": "code",
   "execution_count": 41,
   "metadata": {
    "collapsed": false,
    "deletable": true,
    "editable": true
   },
   "outputs": [
    {
     "name": "stdout",
     "output_type": "stream",
     "text": [
      "/Users/sripradha/Documents/Sem2/CS838/CS838-Data-Science/Stage3/sample.csv\n"
     ]
    }
   ],
   "source": [
    "# Set path for sampled data to label\n",
    "path_label = datasets_dir + os.sep + 'sample.csv'\n",
    "print (path_label)"
   ]
  },
  {
   "cell_type": "code",
   "execution_count": 42,
   "metadata": {
    "collapsed": false,
    "deletable": true,
    "editable": true
   },
   "outputs": [
    {
     "ename": "NameError",
     "evalue": "name 'S' is not defined",
     "output_type": "error",
     "traceback": [
      "\u001b[0;31m---------------------------------------------------------------------------\u001b[0m",
      "\u001b[0;31mNameError\u001b[0m                                 Traceback (most recent call last)",
      "\u001b[0;32m<ipython-input-42-798ba290dedf>\u001b[0m in \u001b[0;36m<module>\u001b[0;34m()\u001b[0m\n\u001b[0;32m----> 1\u001b[0;31m \u001b[0mS\u001b[0m\u001b[0;34m.\u001b[0m\u001b[0mto_csv\u001b[0m\u001b[0;34m(\u001b[0m\u001b[0mpath_label\u001b[0m\u001b[0;34m)\u001b[0m\u001b[0;34m\u001b[0m\u001b[0m\n\u001b[0m",
      "\u001b[0;31mNameError\u001b[0m: name 'S' is not defined"
     ]
    }
   ],
   "source": [
    "S.to_csv(path_label)"
   ]
  },
  {
   "cell_type": "code",
   "execution_count": 43,
   "metadata": {
    "collapsed": false,
    "deletable": true,
    "editable": true
   },
   "outputs": [
    {
     "ename": "NameError",
     "evalue": "name 'C1' is not defined",
     "output_type": "error",
     "traceback": [
      "\u001b[0;31m---------------------------------------------------------------------------\u001b[0m",
      "\u001b[0;31mNameError\u001b[0m                                 Traceback (most recent call last)",
      "\u001b[0;32m<ipython-input-43-ccfec880d145>\u001b[0m in \u001b[0;36m<module>\u001b[0;34m()\u001b[0m\n\u001b[0;32m----> 1\u001b[0;31m \u001b[0mD\u001b[0m \u001b[0;34m=\u001b[0m \u001b[0mob\u001b[0m\u001b[0;34m.\u001b[0m\u001b[0mblock_candset\u001b[0m\u001b[0;34m(\u001b[0m\u001b[0mC1\u001b[0m\u001b[0;34m,\u001b[0m \u001b[0;34m'title'\u001b[0m\u001b[0;34m,\u001b[0m \u001b[0;34m'song'\u001b[0m\u001b[0;34m,\u001b[0m \u001b[0mrem_stop_words\u001b[0m\u001b[0;34m=\u001b[0m\u001b[0;32mTrue\u001b[0m\u001b[0;34m,\u001b[0m \u001b[0mverbose\u001b[0m\u001b[0;34m=\u001b[0m\u001b[0;32mTrue\u001b[0m\u001b[0;34m)\u001b[0m\u001b[0;34m\u001b[0m\u001b[0m\n\u001b[0m",
      "\u001b[0;31mNameError\u001b[0m: name 'C1' is not defined"
     ]
    }
   ],
   "source": [
    "D = ob.block_candset(C1, 'title', 'song', rem_stop_words=True, verbose=True)"
   ]
  },
  {
   "cell_type": "code",
   "execution_count": 44,
   "metadata": {
    "collapsed": false,
    "deletable": true,
    "editable": true
   },
   "outputs": [
    {
     "name": "stdout",
     "output_type": "stream",
     "text": [
      "/Users/sripradha/Documents/Sem2/CS838/CS838-Data-Science/Stage3/sample.csv\n"
     ]
    }
   ],
   "source": [
    "#print (path_label)"
   ]
  },
  {
   "cell_type": "code",
   "execution_count": 45,
   "metadata": {
    "collapsed": false,
    "deletable": true,
    "editable": true
   },
   "outputs": [
    {
     "name": "stdout",
     "output_type": "stream",
     "text": [
      "/Users/sripradha/Documents/Sem2/CS838/CS838-Data-Science/Stage3/songs.csv\n"
     ]
    }
   ],
   "source": [
    "#print (path_A)"
   ]
  },
  {
   "cell_type": "code",
   "execution_count": 46,
   "metadata": {
    "collapsed": false,
    "deletable": true,
    "editable": true
   },
   "outputs": [
    {
     "ename": "NameError",
     "evalue": "name 'D' is not defined",
     "output_type": "error",
     "traceback": [
      "\u001b[0;31m---------------------------------------------------------------------------\u001b[0m",
      "\u001b[0;31mNameError\u001b[0m                                 Traceback (most recent call last)",
      "\u001b[0;32m<ipython-input-46-e8b357db99c9>\u001b[0m in \u001b[0;36m<module>\u001b[0;34m()\u001b[0m\n\u001b[1;32m      1\u001b[0m \u001b[0;31m# Label S\u001b[0m\u001b[0;34m\u001b[0m\u001b[0;34m\u001b[0m\u001b[0m\n\u001b[0;32m----> 2\u001b[0;31m \u001b[0mG\u001b[0m \u001b[0;34m=\u001b[0m \u001b[0mem\u001b[0m\u001b[0;34m.\u001b[0m\u001b[0mlabel_table\u001b[0m\u001b[0;34m(\u001b[0m\u001b[0mD\u001b[0m\u001b[0;34m,\u001b[0m \u001b[0;34m'gold'\u001b[0m\u001b[0;34m)\u001b[0m\u001b[0;34m\u001b[0m\u001b[0m\n\u001b[0m",
      "\u001b[0;31mNameError\u001b[0m: name 'D' is not defined"
     ]
    }
   ],
   "source": [
    "# Label S\n",
    "G = em.label_table(D, 'gold')"
   ]
  },
  {
   "cell_type": "code",
   "execution_count": 47,
   "metadata": {
    "collapsed": true,
    "deletable": true,
    "editable": true
   },
   "outputs": [],
   "source": [
    "atypes1 = em.get_attr_types(A)\n",
    "atypes2 = em.get_attr_types(B)"
   ]
  },
  {
   "cell_type": "code",
   "execution_count": 48,
   "metadata": {
    "collapsed": false,
    "deletable": true,
    "editable": true
   },
   "outputs": [
    {
     "data": {
      "text/plain": [
       "dict_keys(['id', 'title', 'artist_name', 'year', '_table'])"
      ]
     },
     "execution_count": 48,
     "metadata": {},
     "output_type": "execute_result"
    }
   ],
   "source": [
    "atypes1.keys()\n"
   ]
  },
  {
   "cell_type": "code",
   "execution_count": 49,
   "metadata": {
    "collapsed": false,
    "deletable": true,
    "editable": true
   },
   "outputs": [
    {
     "data": {
      "text/plain": [
       "('str_bt_1w_5w', 'numeric', 'str_bt_1w_5w')"
      ]
     },
     "execution_count": 49,
     "metadata": {},
     "output_type": "execute_result"
    }
   ],
   "source": [
    "atypes2['song'], atypes2['year'], atypes2['artists']"
   ]
  },
  {
   "cell_type": "code",
   "execution_count": 50,
   "metadata": {
    "collapsed": false,
    "deletable": true,
    "editable": true
   },
   "outputs": [
    {
     "data": {
      "text/plain": [
       "('str_bt_1w_5w', 'numeric', 'str_bt_1w_5w')"
      ]
     },
     "execution_count": 50,
     "metadata": {},
     "output_type": "execute_result"
    }
   ],
   "source": [
    "atypes1['title'], atypes1['year'], atypes1['artist_name']"
   ]
  },
  {
   "cell_type": "code",
   "execution_count": 51,
   "metadata": {
    "collapsed": false,
    "deletable": true,
    "editable": true
   },
   "outputs": [],
   "source": [
    "block_c = em.get_attr_corres(A,B)"
   ]
  },
  {
   "cell_type": "code",
   "execution_count": 52,
   "metadata": {
    "collapsed": false,
    "deletable": true,
    "editable": true
   },
   "outputs": [
    {
     "data": {
      "text/plain": [
       "dict_keys(['corres', 'ltable', 'rtable'])"
      ]
     },
     "execution_count": 52,
     "metadata": {},
     "output_type": "execute_result"
    }
   ],
   "source": [
    "block_c.keys()"
   ]
  },
  {
   "cell_type": "code",
   "execution_count": 53,
   "metadata": {
    "collapsed": false,
    "deletable": true,
    "editable": true
   },
   "outputs": [
    {
     "data": {
      "text/plain": [
       "[('id', 'id'), ('title', 'title'), ('year', 'year')]"
      ]
     },
     "execution_count": 53,
     "metadata": {},
     "output_type": "execute_result"
    }
   ],
   "source": [
    "block_c['corres']"
   ]
  },
  {
   "cell_type": "code",
   "execution_count": 54,
   "metadata": {
    "collapsed": true,
    "deletable": true,
    "editable": true
   },
   "outputs": [],
   "source": [
    "block_c['corres'] = [\n",
    " ('id', 'id'),\n",
    " ('title', 'song'),\n",
    " ('year', 'year'),\n",
    " ('artist_name', 'artists')]"
   ]
  },
  {
   "cell_type": "code",
   "execution_count": 55,
   "metadata": {
    "collapsed": false,
    "deletable": true,
    "editable": true
   },
   "outputs": [
    {
     "data": {
      "text/plain": [
       "[('id', 'id'), ('title', 'song'), ('year', 'year'), ('artist_name', 'artists')]"
      ]
     },
     "execution_count": 55,
     "metadata": {},
     "output_type": "execute_result"
    }
   ],
   "source": [
    "block_c['corres']"
   ]
  },
  {
   "cell_type": "code",
   "execution_count": 56,
   "metadata": {
    "collapsed": true,
    "deletable": true,
    "editable": true
   },
   "outputs": [],
   "source": [
    "tok = em.get_tokenizers_for_blocking() "
   ]
  },
  {
   "cell_type": "code",
   "execution_count": 57,
   "metadata": {
    "collapsed": true,
    "deletable": true,
    "editable": true
   },
   "outputs": [],
   "source": [
    "sim = em.get_sim_funs_for_blocking()"
   ]
  },
  {
   "cell_type": "code",
   "execution_count": 58,
   "metadata": {
    "collapsed": true,
    "deletable": true,
    "editable": true
   },
   "outputs": [],
   "source": [
    "table_g_file = \"sample1_labelled_new_utf.csv\"\n",
    "path_G = datasets_dir + os.sep + table_g_file"
   ]
  },
  {
   "cell_type": "code",
   "execution_count": 59,
   "metadata": {
    "collapsed": false,
    "deletable": true,
    "editable": true
   },
   "outputs": [
    {
     "name": "stdout",
     "output_type": "stream",
     "text": [
      "/Users/sripradha/Documents/Sem2/CS838/CS838-Data-Science/Stage3/sample1_labelled_new_utf.csv\n"
     ]
    }
   ],
   "source": [
    "print (path_G)"
   ]
  },
  {
   "cell_type": "code",
   "execution_count": 60,
   "metadata": {
    "collapsed": false,
    "deletable": true,
    "editable": true
   },
   "outputs": [
    {
     "name": "stderr",
     "output_type": "stream",
     "text": [
      "WARNING:py_entitymatching.io.parsers:Metadata file is not present in the given path; proceeding to read the csv file.\n"
     ]
    }
   ],
   "source": [
    "\n",
    "G = em.read_csv_metadata(path_G, \n",
    "                         key='_id',\n",
    "                         ltable=A, rtable=B, \n",
    "                         fk_ltable='ltable_id', fk_rtable='rtable_id', encoding = 'UTF-8')"
   ]
  },
  {
   "cell_type": "code",
   "execution_count": 61,
   "metadata": {
    "collapsed": false,
    "deletable": true,
    "editable": true
   },
   "outputs": [
    {
     "data": {
      "text/plain": [
       "441"
      ]
     },
     "execution_count": 61,
     "metadata": {},
     "output_type": "execute_result"
    }
   ],
   "source": [
    "len(G)"
   ]
  },
  {
   "cell_type": "code",
   "execution_count": 62,
   "metadata": {
    "collapsed": true,
    "deletable": true,
    "editable": true
   },
   "outputs": [],
   "source": [
    "# Split D into development set (I) and evaluation set (J)\n",
    "IJ = em.split_train_test(G, train_proportion=0.7, random_state=0)\n",
    "I = IJ['train']\n",
    "J = IJ['test']"
   ]
  },
  {
   "cell_type": "code",
   "execution_count": 63,
   "metadata": {
    "collapsed": true,
    "deletable": true,
    "editable": true
   },
   "outputs": [],
   "source": [
    "# Create a set of ML-matchers\n",
    "dt = em.DTMatcher(name='DecisionTree', random_state=0)\n",
    "svm = em.SVMMatcher(name='SVM', random_state=0)\n",
    "rf = em.RFMatcher(name='RF', random_state=0)\n",
    "lg = em.LogRegMatcher(name='LogReg', random_state=0)\n",
    "ln = em.LinRegMatcher(name='LinReg')\n",
    "nb = em.NBMatcher(name='NaiveBayes')"
   ]
  },
  {
   "cell_type": "code",
   "execution_count": 64,
   "metadata": {
    "collapsed": false,
    "deletable": true,
    "editable": true
   },
   "outputs": [],
   "source": [
    "# Generate features\n",
    "feature_table = em.get_features(A, B, atypes1, atypes2, block_c, tok, sim)"
   ]
  },
  {
   "cell_type": "code",
   "execution_count": 65,
   "metadata": {
    "collapsed": false,
    "deletable": true,
    "editable": true
   },
   "outputs": [
    {
     "data": {
      "text/plain": [
       "0                                   id_id_exm\n",
       "1                                   id_id_anm\n",
       "2                              id_id_lev_dist\n",
       "3                               id_id_lev_sim\n",
       "4                  title_song_jac_qgm_3_qgm_3\n",
       "5              title_song_cos_dlm_dc0_dlm_dc0\n",
       "6              title_song_jac_dlm_dc0_dlm_dc0\n",
       "7                              title_song_mel\n",
       "8                         title_song_lev_dist\n",
       "9                          title_song_lev_sim\n",
       "10                             title_song_nmw\n",
       "11                              title_song_sw\n",
       "12                              year_year_exm\n",
       "13                              year_year_anm\n",
       "14                         year_year_lev_dist\n",
       "15                          year_year_lev_sim\n",
       "16        artist_name_artists_jac_qgm_3_qgm_3\n",
       "17    artist_name_artists_cos_dlm_dc0_dlm_dc0\n",
       "18    artist_name_artists_jac_dlm_dc0_dlm_dc0\n",
       "19                    artist_name_artists_mel\n",
       "20               artist_name_artists_lev_dist\n",
       "21                artist_name_artists_lev_sim\n",
       "22                    artist_name_artists_nmw\n",
       "23                     artist_name_artists_sw\n",
       "Name: feature_name, dtype: object"
      ]
     },
     "execution_count": 65,
     "metadata": {},
     "output_type": "execute_result"
    }
   ],
   "source": [
    "feature_table.feature_name"
   ]
  },
  {
   "cell_type": "code",
   "execution_count": 66,
   "metadata": {
    "collapsed": false,
    "deletable": true,
    "editable": true
   },
   "outputs": [
    {
     "name": "stderr",
     "output_type": "stream",
     "text": [
      "0%                          100%\n",
      "[##############################] | ETA: 00:00:05 | ETA: 00:00:04 | ETA: 00:00:03 | ETA: 00:00:03 | ETA: 00:00:03 | ETA: 00:00:02 | ETA: 00:00:02 | ETA: 00:00:02 | ETA: 00:00:02 | ETA: 00:00:02 | ETA: 00:00:02 | ETA: 00:00:01 | ETA: 00:00:01 | ETA: 00:00:01 | ETA: 00:00:01 | ETA: 00:00:01 | ETA: 00:00:01 | ETA: 00:00:01 | ETA: 00:00:01 | ETA: 00:00:01 | ETA: 00:00:01 | ETA: 00:00:00 | ETA: 00:00:00 | ETA: 00:00:00 | ETA: 00:00:00 | ETA: 00:00:00 | ETA: 00:00:00 | ETA: 00:00:00 | ETA: 00:00:00 | ETA: 00:00:00 | ETA: 00:00:00\n",
      "Total time elapsed: 00:00:03\n"
     ]
    }
   ],
   "source": [
    "# Convert the I into a set of feature vectors using F\n",
    "H = em.extract_feature_vecs(I, \n",
    "                            feature_table=feature_table, \n",
    "                            attrs_after='gold',\n",
    "                            show_progress=True)"
   ]
  },
  {
   "cell_type": "code",
   "execution_count": 67,
   "metadata": {
    "collapsed": false,
    "deletable": true,
    "editable": true
   },
   "outputs": [
    {
     "data": {
      "text/html": [
       "<div>\n",
       "<table border=\"1\" class=\"dataframe\">\n",
       "  <thead>\n",
       "    <tr style=\"text-align: right;\">\n",
       "      <th></th>\n",
       "      <th>_id</th>\n",
       "      <th>ltable_id</th>\n",
       "      <th>rtable_id</th>\n",
       "      <th>id_id_exm</th>\n",
       "      <th>id_id_anm</th>\n",
       "      <th>id_id_lev_dist</th>\n",
       "      <th>id_id_lev_sim</th>\n",
       "      <th>title_song_jac_qgm_3_qgm_3</th>\n",
       "      <th>title_song_cos_dlm_dc0_dlm_dc0</th>\n",
       "      <th>title_song_jac_dlm_dc0_dlm_dc0</th>\n",
       "      <th>...</th>\n",
       "      <th>year_year_lev_sim</th>\n",
       "      <th>artist_name_artists_jac_qgm_3_qgm_3</th>\n",
       "      <th>artist_name_artists_cos_dlm_dc0_dlm_dc0</th>\n",
       "      <th>artist_name_artists_jac_dlm_dc0_dlm_dc0</th>\n",
       "      <th>artist_name_artists_mel</th>\n",
       "      <th>artist_name_artists_lev_dist</th>\n",
       "      <th>artist_name_artists_lev_sim</th>\n",
       "      <th>artist_name_artists_nmw</th>\n",
       "      <th>artist_name_artists_sw</th>\n",
       "      <th>gold</th>\n",
       "    </tr>\n",
       "  </thead>\n",
       "  <tbody>\n",
       "    <tr>\n",
       "      <th>232</th>\n",
       "      <td>6928</td>\n",
       "      <td>393791</td>\n",
       "      <td>155174</td>\n",
       "      <td>0</td>\n",
       "      <td>0.394052</td>\n",
       "      <td>6</td>\n",
       "      <td>0.000000</td>\n",
       "      <td>0.060606</td>\n",
       "      <td>0.258199</td>\n",
       "      <td>0.142857</td>\n",
       "      <td>...</td>\n",
       "      <td>0.166667</td>\n",
       "      <td>0.500000</td>\n",
       "      <td>0.0</td>\n",
       "      <td>0.0</td>\n",
       "      <td>0.845238</td>\n",
       "      <td>2</td>\n",
       "      <td>0.875000</td>\n",
       "      <td>14.0</td>\n",
       "      <td>14.0</td>\n",
       "      <td>0</td>\n",
       "    </tr>\n",
       "    <tr>\n",
       "      <th>224</th>\n",
       "      <td>6686</td>\n",
       "      <td>563306</td>\n",
       "      <td>191430</td>\n",
       "      <td>0</td>\n",
       "      <td>0.339833</td>\n",
       "      <td>5</td>\n",
       "      <td>0.166667</td>\n",
       "      <td>0.708333</td>\n",
       "      <td>0.750000</td>\n",
       "      <td>0.600000</td>\n",
       "      <td>...</td>\n",
       "      <td>0.666667</td>\n",
       "      <td>0.081081</td>\n",
       "      <td>0.0</td>\n",
       "      <td>0.0</td>\n",
       "      <td>0.460731</td>\n",
       "      <td>58</td>\n",
       "      <td>0.134328</td>\n",
       "      <td>-45.0</td>\n",
       "      <td>8.0</td>\n",
       "      <td>1</td>\n",
       "    </tr>\n",
       "    <tr>\n",
       "      <th>252</th>\n",
       "      <td>7359</td>\n",
       "      <td>877636</td>\n",
       "      <td>136402</td>\n",
       "      <td>0</td>\n",
       "      <td>0.155420</td>\n",
       "      <td>6</td>\n",
       "      <td>0.000000</td>\n",
       "      <td>0.227273</td>\n",
       "      <td>0.500000</td>\n",
       "      <td>0.250000</td>\n",
       "      <td>...</td>\n",
       "      <td>0.166667</td>\n",
       "      <td>0.333333</td>\n",
       "      <td>0.0</td>\n",
       "      <td>0.0</td>\n",
       "      <td>0.762500</td>\n",
       "      <td>2</td>\n",
       "      <td>0.800000</td>\n",
       "      <td>8.0</td>\n",
       "      <td>8.0</td>\n",
       "      <td>0</td>\n",
       "    </tr>\n",
       "    <tr>\n",
       "      <th>254</th>\n",
       "      <td>7531</td>\n",
       "      <td>66307</td>\n",
       "      <td>565592</td>\n",
       "      <td>0</td>\n",
       "      <td>0.117235</td>\n",
       "      <td>5</td>\n",
       "      <td>0.166667</td>\n",
       "      <td>0.013333</td>\n",
       "      <td>0.000000</td>\n",
       "      <td>0.000000</td>\n",
       "      <td>...</td>\n",
       "      <td>0.166667</td>\n",
       "      <td>0.478261</td>\n",
       "      <td>0.0</td>\n",
       "      <td>0.0</td>\n",
       "      <td>0.911111</td>\n",
       "      <td>2</td>\n",
       "      <td>0.866667</td>\n",
       "      <td>13.0</td>\n",
       "      <td>13.0</td>\n",
       "      <td>1</td>\n",
       "    </tr>\n",
       "    <tr>\n",
       "      <th>417</th>\n",
       "      <td>12578</td>\n",
       "      <td>445657</td>\n",
       "      <td>594205</td>\n",
       "      <td>0</td>\n",
       "      <td>0.750005</td>\n",
       "      <td>5</td>\n",
       "      <td>0.166667</td>\n",
       "      <td>0.465517</td>\n",
       "      <td>0.790569</td>\n",
       "      <td>0.625000</td>\n",
       "      <td>...</td>\n",
       "      <td>0.166667</td>\n",
       "      <td>0.294118</td>\n",
       "      <td>0.0</td>\n",
       "      <td>0.0</td>\n",
       "      <td>0.851852</td>\n",
       "      <td>2</td>\n",
       "      <td>0.777778</td>\n",
       "      <td>7.0</td>\n",
       "      <td>7.0</td>\n",
       "      <td>1</td>\n",
       "    </tr>\n",
       "    <tr>\n",
       "      <th>106</th>\n",
       "      <td>3455</td>\n",
       "      <td>842597</td>\n",
       "      <td>302069</td>\n",
       "      <td>0</td>\n",
       "      <td>0.358498</td>\n",
       "      <td>5</td>\n",
       "      <td>0.166667</td>\n",
       "      <td>0.088889</td>\n",
       "      <td>0.182574</td>\n",
       "      <td>0.100000</td>\n",
       "      <td>...</td>\n",
       "      <td>0.333333</td>\n",
       "      <td>0.080000</td>\n",
       "      <td>0.0</td>\n",
       "      <td>0.0</td>\n",
       "      <td>0.623333</td>\n",
       "      <td>44</td>\n",
       "      <td>0.120000</td>\n",
       "      <td>-36.0</td>\n",
       "      <td>6.0</td>\n",
       "      <td>0</td>\n",
       "    </tr>\n",
       "    <tr>\n",
       "      <th>278</th>\n",
       "      <td>8457</td>\n",
       "      <td>835974</td>\n",
       "      <td>85514</td>\n",
       "      <td>0</td>\n",
       "      <td>0.102293</td>\n",
       "      <td>3</td>\n",
       "      <td>0.500000</td>\n",
       "      <td>0.200000</td>\n",
       "      <td>0.353553</td>\n",
       "      <td>0.200000</td>\n",
       "      <td>...</td>\n",
       "      <td>0.500000</td>\n",
       "      <td>0.357143</td>\n",
       "      <td>0.0</td>\n",
       "      <td>0.0</td>\n",
       "      <td>0.882353</td>\n",
       "      <td>3</td>\n",
       "      <td>0.823529</td>\n",
       "      <td>14.0</td>\n",
       "      <td>14.0</td>\n",
       "      <td>0</td>\n",
       "    </tr>\n",
       "    <tr>\n",
       "      <th>63</th>\n",
       "      <td>2300</td>\n",
       "      <td>106567</td>\n",
       "      <td>698684</td>\n",
       "      <td>0</td>\n",
       "      <td>0.152525</td>\n",
       "      <td>6</td>\n",
       "      <td>0.000000</td>\n",
       "      <td>0.169231</td>\n",
       "      <td>0.365148</td>\n",
       "      <td>0.181818</td>\n",
       "      <td>...</td>\n",
       "      <td>0.166667</td>\n",
       "      <td>0.454545</td>\n",
       "      <td>0.0</td>\n",
       "      <td>0.0</td>\n",
       "      <td>0.904762</td>\n",
       "      <td>2</td>\n",
       "      <td>0.857143</td>\n",
       "      <td>12.0</td>\n",
       "      <td>12.0</td>\n",
       "      <td>1</td>\n",
       "    </tr>\n",
       "    <tr>\n",
       "      <th>336</th>\n",
       "      <td>9973</td>\n",
       "      <td>870098</td>\n",
       "      <td>406733</td>\n",
       "      <td>0</td>\n",
       "      <td>0.467457</td>\n",
       "      <td>6</td>\n",
       "      <td>0.000000</td>\n",
       "      <td>0.109091</td>\n",
       "      <td>0.288675</td>\n",
       "      <td>0.142857</td>\n",
       "      <td>...</td>\n",
       "      <td>0.166667</td>\n",
       "      <td>0.127660</td>\n",
       "      <td>0.0</td>\n",
       "      <td>0.0</td>\n",
       "      <td>0.567868</td>\n",
       "      <td>27</td>\n",
       "      <td>0.270270</td>\n",
       "      <td>-15.0</td>\n",
       "      <td>10.0</td>\n",
       "      <td>0</td>\n",
       "    </tr>\n",
       "    <tr>\n",
       "      <th>377</th>\n",
       "      <td>10984</td>\n",
       "      <td>954605</td>\n",
       "      <td>113953</td>\n",
       "      <td>0</td>\n",
       "      <td>0.119372</td>\n",
       "      <td>6</td>\n",
       "      <td>0.000000</td>\n",
       "      <td>1.000000</td>\n",
       "      <td>1.000000</td>\n",
       "      <td>1.000000</td>\n",
       "      <td>...</td>\n",
       "      <td>0.500000</td>\n",
       "      <td>0.234043</td>\n",
       "      <td>0.0</td>\n",
       "      <td>0.0</td>\n",
       "      <td>0.513736</td>\n",
       "      <td>24</td>\n",
       "      <td>0.142857</td>\n",
       "      <td>1.0</td>\n",
       "      <td>11.0</td>\n",
       "      <td>1</td>\n",
       "    </tr>\n",
       "  </tbody>\n",
       "</table>\n",
       "<p>10 rows × 28 columns</p>\n",
       "</div>"
      ],
      "text/plain": [
       "       _id  ltable_id  rtable_id  id_id_exm  id_id_anm  id_id_lev_dist  \\\n",
       "232   6928     393791     155174          0   0.394052               6   \n",
       "224   6686     563306     191430          0   0.339833               5   \n",
       "252   7359     877636     136402          0   0.155420               6   \n",
       "254   7531      66307     565592          0   0.117235               5   \n",
       "417  12578     445657     594205          0   0.750005               5   \n",
       "106   3455     842597     302069          0   0.358498               5   \n",
       "278   8457     835974      85514          0   0.102293               3   \n",
       "63    2300     106567     698684          0   0.152525               6   \n",
       "336   9973     870098     406733          0   0.467457               6   \n",
       "377  10984     954605     113953          0   0.119372               6   \n",
       "\n",
       "     id_id_lev_sim  title_song_jac_qgm_3_qgm_3  \\\n",
       "232       0.000000                    0.060606   \n",
       "224       0.166667                    0.708333   \n",
       "252       0.000000                    0.227273   \n",
       "254       0.166667                    0.013333   \n",
       "417       0.166667                    0.465517   \n",
       "106       0.166667                    0.088889   \n",
       "278       0.500000                    0.200000   \n",
       "63        0.000000                    0.169231   \n",
       "336       0.000000                    0.109091   \n",
       "377       0.000000                    1.000000   \n",
       "\n",
       "     title_song_cos_dlm_dc0_dlm_dc0  title_song_jac_dlm_dc0_dlm_dc0  ...   \\\n",
       "232                        0.258199                        0.142857  ...    \n",
       "224                        0.750000                        0.600000  ...    \n",
       "252                        0.500000                        0.250000  ...    \n",
       "254                        0.000000                        0.000000  ...    \n",
       "417                        0.790569                        0.625000  ...    \n",
       "106                        0.182574                        0.100000  ...    \n",
       "278                        0.353553                        0.200000  ...    \n",
       "63                         0.365148                        0.181818  ...    \n",
       "336                        0.288675                        0.142857  ...    \n",
       "377                        1.000000                        1.000000  ...    \n",
       "\n",
       "     year_year_lev_sim  artist_name_artists_jac_qgm_3_qgm_3  \\\n",
       "232           0.166667                             0.500000   \n",
       "224           0.666667                             0.081081   \n",
       "252           0.166667                             0.333333   \n",
       "254           0.166667                             0.478261   \n",
       "417           0.166667                             0.294118   \n",
       "106           0.333333                             0.080000   \n",
       "278           0.500000                             0.357143   \n",
       "63            0.166667                             0.454545   \n",
       "336           0.166667                             0.127660   \n",
       "377           0.500000                             0.234043   \n",
       "\n",
       "     artist_name_artists_cos_dlm_dc0_dlm_dc0  \\\n",
       "232                                      0.0   \n",
       "224                                      0.0   \n",
       "252                                      0.0   \n",
       "254                                      0.0   \n",
       "417                                      0.0   \n",
       "106                                      0.0   \n",
       "278                                      0.0   \n",
       "63                                       0.0   \n",
       "336                                      0.0   \n",
       "377                                      0.0   \n",
       "\n",
       "     artist_name_artists_jac_dlm_dc0_dlm_dc0  artist_name_artists_mel  \\\n",
       "232                                      0.0                 0.845238   \n",
       "224                                      0.0                 0.460731   \n",
       "252                                      0.0                 0.762500   \n",
       "254                                      0.0                 0.911111   \n",
       "417                                      0.0                 0.851852   \n",
       "106                                      0.0                 0.623333   \n",
       "278                                      0.0                 0.882353   \n",
       "63                                       0.0                 0.904762   \n",
       "336                                      0.0                 0.567868   \n",
       "377                                      0.0                 0.513736   \n",
       "\n",
       "     artist_name_artists_lev_dist  artist_name_artists_lev_sim  \\\n",
       "232                             2                     0.875000   \n",
       "224                            58                     0.134328   \n",
       "252                             2                     0.800000   \n",
       "254                             2                     0.866667   \n",
       "417                             2                     0.777778   \n",
       "106                            44                     0.120000   \n",
       "278                             3                     0.823529   \n",
       "63                              2                     0.857143   \n",
       "336                            27                     0.270270   \n",
       "377                            24                     0.142857   \n",
       "\n",
       "     artist_name_artists_nmw  artist_name_artists_sw  gold  \n",
       "232                     14.0                    14.0     0  \n",
       "224                    -45.0                     8.0     1  \n",
       "252                      8.0                     8.0     0  \n",
       "254                     13.0                    13.0     1  \n",
       "417                      7.0                     7.0     1  \n",
       "106                    -36.0                     6.0     0  \n",
       "278                     14.0                    14.0     0  \n",
       "63                      12.0                    12.0     1  \n",
       "336                    -15.0                    10.0     0  \n",
       "377                      1.0                    11.0     1  \n",
       "\n",
       "[10 rows x 28 columns]"
      ]
     },
     "execution_count": 67,
     "metadata": {},
     "output_type": "execute_result"
    }
   ],
   "source": [
    "# Display first few rows\n",
    "H.head(10)"
   ]
  },
  {
   "cell_type": "code",
   "execution_count": 68,
   "metadata": {
    "collapsed": false,
    "deletable": true,
    "editable": true
   },
   "outputs": [
    {
     "name": "stderr",
     "output_type": "stream",
     "text": [
      "/usr/local/lib/python3.6/site-packages/scipy/linalg/basic.py:1018: RuntimeWarning: internal gelsd driver lwork query error, required iwork dimension not returned. This is likely the result of LAPACK bug 0038, fixed in LAPACK 3.2.2 (released July 21, 2010). Falling back to 'gelss' driver.\n",
      "  warnings.warn(mesg, RuntimeWarning)\n"
     ]
    },
    {
     "data": {
      "text/html": [
       "<div>\n",
       "<table border=\"1\" class=\"dataframe\">\n",
       "  <thead>\n",
       "    <tr style=\"text-align: right;\">\n",
       "      <th></th>\n",
       "      <th>Name</th>\n",
       "      <th>Matcher</th>\n",
       "      <th>Num folds</th>\n",
       "      <th>Fold 1</th>\n",
       "      <th>Fold 2</th>\n",
       "      <th>Fold 3</th>\n",
       "      <th>Fold 4</th>\n",
       "      <th>Fold 5</th>\n",
       "      <th>Mean score</th>\n",
       "    </tr>\n",
       "  </thead>\n",
       "  <tbody>\n",
       "    <tr>\n",
       "      <th>0</th>\n",
       "      <td>DecisionTree</td>\n",
       "      <td>&lt;py_entitymatching.matcher.dtmatcher.DTMatcher object at 0x10db4c9b0&gt;</td>\n",
       "      <td>5</td>\n",
       "      <td>0.916667</td>\n",
       "      <td>0.937500</td>\n",
       "      <td>0.871795</td>\n",
       "      <td>0.931034</td>\n",
       "      <td>0.888889</td>\n",
       "      <td>0.909177</td>\n",
       "    </tr>\n",
       "    <tr>\n",
       "      <th>1</th>\n",
       "      <td>RF</td>\n",
       "      <td>&lt;py_entitymatching.matcher.rfmatcher.RFMatcher object at 0x10db4c6d8&gt;</td>\n",
       "      <td>5</td>\n",
       "      <td>1.000000</td>\n",
       "      <td>0.937500</td>\n",
       "      <td>0.941176</td>\n",
       "      <td>0.962963</td>\n",
       "      <td>0.969697</td>\n",
       "      <td>0.962267</td>\n",
       "    </tr>\n",
       "    <tr>\n",
       "      <th>2</th>\n",
       "      <td>SVM</td>\n",
       "      <td>&lt;py_entitymatching.matcher.svmmatcher.SVMMatcher object at 0x10db4c048&gt;</td>\n",
       "      <td>5</td>\n",
       "      <td>0.916667</td>\n",
       "      <td>0.964286</td>\n",
       "      <td>0.925926</td>\n",
       "      <td>1.000000</td>\n",
       "      <td>0.851852</td>\n",
       "      <td>0.931746</td>\n",
       "    </tr>\n",
       "    <tr>\n",
       "      <th>3</th>\n",
       "      <td>LinReg</td>\n",
       "      <td>&lt;py_entitymatching.matcher.linregmatcher.LinRegMatcher object at 0x10db4c7f0&gt;</td>\n",
       "      <td>5</td>\n",
       "      <td>1.000000</td>\n",
       "      <td>0.941176</td>\n",
       "      <td>0.914286</td>\n",
       "      <td>0.900000</td>\n",
       "      <td>0.969697</td>\n",
       "      <td>0.945032</td>\n",
       "    </tr>\n",
       "    <tr>\n",
       "      <th>4</th>\n",
       "      <td>LogReg</td>\n",
       "      <td>&lt;py_entitymatching.matcher.logregmatcher.LogRegMatcher object at 0x10db4c748&gt;</td>\n",
       "      <td>5</td>\n",
       "      <td>0.972973</td>\n",
       "      <td>0.916667</td>\n",
       "      <td>0.914286</td>\n",
       "      <td>1.000000</td>\n",
       "      <td>0.911765</td>\n",
       "      <td>0.943138</td>\n",
       "    </tr>\n",
       "    <tr>\n",
       "      <th>5</th>\n",
       "      <td>NaiveBayes</td>\n",
       "      <td>&lt;py_entitymatching.matcher.nbmatcher.NBMatcher object at 0x10db4c390&gt;</td>\n",
       "      <td>5</td>\n",
       "      <td>1.000000</td>\n",
       "      <td>0.965517</td>\n",
       "      <td>0.969697</td>\n",
       "      <td>0.961538</td>\n",
       "      <td>0.968750</td>\n",
       "      <td>0.973101</td>\n",
       "    </tr>\n",
       "  </tbody>\n",
       "</table>\n",
       "</div>"
      ],
      "text/plain": [
       "           Name  \\\n",
       "0  DecisionTree   \n",
       "1            RF   \n",
       "2           SVM   \n",
       "3        LinReg   \n",
       "4        LogReg   \n",
       "5    NaiveBayes   \n",
       "\n",
       "                                                                         Matcher  \\\n",
       "0          <py_entitymatching.matcher.dtmatcher.DTMatcher object at 0x10db4c9b0>   \n",
       "1          <py_entitymatching.matcher.rfmatcher.RFMatcher object at 0x10db4c6d8>   \n",
       "2        <py_entitymatching.matcher.svmmatcher.SVMMatcher object at 0x10db4c048>   \n",
       "3  <py_entitymatching.matcher.linregmatcher.LinRegMatcher object at 0x10db4c7f0>   \n",
       "4  <py_entitymatching.matcher.logregmatcher.LogRegMatcher object at 0x10db4c748>   \n",
       "5          <py_entitymatching.matcher.nbmatcher.NBMatcher object at 0x10db4c390>   \n",
       "\n",
       "   Num folds    Fold 1    Fold 2    Fold 3    Fold 4    Fold 5  Mean score  \n",
       "0          5  0.916667  0.937500  0.871795  0.931034  0.888889    0.909177  \n",
       "1          5  1.000000  0.937500  0.941176  0.962963  0.969697    0.962267  \n",
       "2          5  0.916667  0.964286  0.925926  1.000000  0.851852    0.931746  \n",
       "3          5  1.000000  0.941176  0.914286  0.900000  0.969697    0.945032  \n",
       "4          5  0.972973  0.916667  0.914286  1.000000  0.911765    0.943138  \n",
       "5          5  1.000000  0.965517  0.969697  0.961538  0.968750    0.973101  "
      ]
     },
     "execution_count": 68,
     "metadata": {},
     "output_type": "execute_result"
    }
   ],
   "source": [
    "# Select the best ML matcher using CV\n",
    "result = em.select_matcher([dt, rf, svm, ln, lg, nb], table=H, \n",
    "        exclude_attrs=['_id', 'ltable_id', 'rtable_id', 'gold'],\n",
    "        k=5,\n",
    "        target_attr='gold', metric='precision', random_state=0)\n",
    "result['cv_stats']"
   ]
  },
  {
   "cell_type": "code",
   "execution_count": 69,
   "metadata": {
    "collapsed": false,
    "deletable": true,
    "editable": true
   },
   "outputs": [
    {
     "data": {
      "text/html": [
       "<div>\n",
       "<table border=\"1\" class=\"dataframe\">\n",
       "  <thead>\n",
       "    <tr style=\"text-align: right;\">\n",
       "      <th></th>\n",
       "      <th>Name</th>\n",
       "      <th>Matcher</th>\n",
       "      <th>Num folds</th>\n",
       "      <th>Fold 1</th>\n",
       "      <th>Fold 2</th>\n",
       "      <th>Fold 3</th>\n",
       "      <th>Fold 4</th>\n",
       "      <th>Fold 5</th>\n",
       "      <th>Mean score</th>\n",
       "    </tr>\n",
       "  </thead>\n",
       "  <tbody>\n",
       "    <tr>\n",
       "      <th>0</th>\n",
       "      <td>DecisionTree</td>\n",
       "      <td>&lt;py_entitymatching.matcher.dtmatcher.DTMatcher object at 0x10db4c9b0&gt;</td>\n",
       "      <td>5</td>\n",
       "      <td>0.891892</td>\n",
       "      <td>0.857143</td>\n",
       "      <td>0.944444</td>\n",
       "      <td>0.900000</td>\n",
       "      <td>0.969697</td>\n",
       "      <td>0.912635</td>\n",
       "    </tr>\n",
       "    <tr>\n",
       "      <th>1</th>\n",
       "      <td>RF</td>\n",
       "      <td>&lt;py_entitymatching.matcher.rfmatcher.RFMatcher object at 0x10db4c6d8&gt;</td>\n",
       "      <td>5</td>\n",
       "      <td>0.891892</td>\n",
       "      <td>0.857143</td>\n",
       "      <td>0.888889</td>\n",
       "      <td>0.866667</td>\n",
       "      <td>0.969697</td>\n",
       "      <td>0.894857</td>\n",
       "    </tr>\n",
       "    <tr>\n",
       "      <th>2</th>\n",
       "      <td>SVM</td>\n",
       "      <td>&lt;py_entitymatching.matcher.svmmatcher.SVMMatcher object at 0x10db4c048&gt;</td>\n",
       "      <td>5</td>\n",
       "      <td>0.594595</td>\n",
       "      <td>0.771429</td>\n",
       "      <td>0.694444</td>\n",
       "      <td>0.800000</td>\n",
       "      <td>0.696970</td>\n",
       "      <td>0.711487</td>\n",
       "    </tr>\n",
       "    <tr>\n",
       "      <th>3</th>\n",
       "      <td>LinReg</td>\n",
       "      <td>&lt;py_entitymatching.matcher.linregmatcher.LinRegMatcher object at 0x10db4c7f0&gt;</td>\n",
       "      <td>5</td>\n",
       "      <td>0.945946</td>\n",
       "      <td>0.914286</td>\n",
       "      <td>0.888889</td>\n",
       "      <td>0.900000</td>\n",
       "      <td>0.969697</td>\n",
       "      <td>0.923764</td>\n",
       "    </tr>\n",
       "    <tr>\n",
       "      <th>4</th>\n",
       "      <td>LogReg</td>\n",
       "      <td>&lt;py_entitymatching.matcher.logregmatcher.LogRegMatcher object at 0x10db4c748&gt;</td>\n",
       "      <td>5</td>\n",
       "      <td>0.972973</td>\n",
       "      <td>0.942857</td>\n",
       "      <td>0.888889</td>\n",
       "      <td>0.900000</td>\n",
       "      <td>0.939394</td>\n",
       "      <td>0.928823</td>\n",
       "    </tr>\n",
       "    <tr>\n",
       "      <th>5</th>\n",
       "      <td>NaiveBayes</td>\n",
       "      <td>&lt;py_entitymatching.matcher.nbmatcher.NBMatcher object at 0x10db4c390&gt;</td>\n",
       "      <td>5</td>\n",
       "      <td>0.810811</td>\n",
       "      <td>0.800000</td>\n",
       "      <td>0.888889</td>\n",
       "      <td>0.833333</td>\n",
       "      <td>0.939394</td>\n",
       "      <td>0.854485</td>\n",
       "    </tr>\n",
       "  </tbody>\n",
       "</table>\n",
       "</div>"
      ],
      "text/plain": [
       "           Name  \\\n",
       "0  DecisionTree   \n",
       "1            RF   \n",
       "2           SVM   \n",
       "3        LinReg   \n",
       "4        LogReg   \n",
       "5    NaiveBayes   \n",
       "\n",
       "                                                                         Matcher  \\\n",
       "0          <py_entitymatching.matcher.dtmatcher.DTMatcher object at 0x10db4c9b0>   \n",
       "1          <py_entitymatching.matcher.rfmatcher.RFMatcher object at 0x10db4c6d8>   \n",
       "2        <py_entitymatching.matcher.svmmatcher.SVMMatcher object at 0x10db4c048>   \n",
       "3  <py_entitymatching.matcher.linregmatcher.LinRegMatcher object at 0x10db4c7f0>   \n",
       "4  <py_entitymatching.matcher.logregmatcher.LogRegMatcher object at 0x10db4c748>   \n",
       "5          <py_entitymatching.matcher.nbmatcher.NBMatcher object at 0x10db4c390>   \n",
       "\n",
       "   Num folds    Fold 1    Fold 2    Fold 3    Fold 4    Fold 5  Mean score  \n",
       "0          5  0.891892  0.857143  0.944444  0.900000  0.969697    0.912635  \n",
       "1          5  0.891892  0.857143  0.888889  0.866667  0.969697    0.894857  \n",
       "2          5  0.594595  0.771429  0.694444  0.800000  0.696970    0.711487  \n",
       "3          5  0.945946  0.914286  0.888889  0.900000  0.969697    0.923764  \n",
       "4          5  0.972973  0.942857  0.888889  0.900000  0.939394    0.928823  \n",
       "5          5  0.810811  0.800000  0.888889  0.833333  0.939394    0.854485  "
      ]
     },
     "execution_count": 69,
     "metadata": {},
     "output_type": "execute_result"
    }
   ],
   "source": [
    "result = em.select_matcher([dt, rf, svm, ln, lg, nb], table=H, \n",
    "        exclude_attrs=['_id', 'ltable_id', 'rtable_id', 'gold'],\n",
    "        k=5,\n",
    "        target_attr='gold', metric='recall', random_state=0)\n",
    "result['cv_stats']"
   ]
  },
  {
   "cell_type": "code",
   "execution_count": 96,
   "metadata": {
    "collapsed": true,
    "deletable": true,
    "editable": true
   },
   "outputs": [],
   "source": [
    "# Create a set of ML-matchers\n",
    "dt = em.DTMatcher(name='DecisionTree', random_state=0)\n",
    "svm = em.SVMMatcher(name='SVM', random_state=0)\n",
    "rf = em.RFMatcher(name='RF', random_state=0)\n",
    "lg = em.LogRegMatcher(name='LogReg', random_state=0)\n",
    "ln = em.LinRegMatcher(name='LinReg')\n",
    "nb = em.NBMatcher(name='NaiveBayes')"
   ]
  },
  {
   "cell_type": "code",
   "execution_count": 101,
   "metadata": {
    "collapsed": true,
    "deletable": true,
    "editable": true
   },
   "outputs": [],
   "source": [
    "models = [dt, svm, rf, lg, ln, nb]\n",
    "\n",
    "def train(models):\n",
    "    for model in models:\n",
    "        # Train using feature vectors from I \n",
    "        model.fit(table=H, \n",
    "        exclude_attrs=['_id', 'ltable_id', 'rtable_id', 'gold'], \n",
    "        target_attr='gold')\n",
    "\n",
    "        # Convert J into a set of feature vectors using F\n",
    "        L = em.extract_feature_vecs(J, feature_table=feature_table,\n",
    "                            attrs_after='gold', show_progress=False)\n",
    "\n",
    "        # Predict on L \n",
    "        predictions = model.predict(table=L, exclude_attrs=['_id', 'ltable_id', 'rtable_id', 'gold'], \n",
    "              append=True, target_attr='predicted', inplace=False)\n",
    "        \n",
    "        # Evaluate the predictions\n",
    "        print ('Predictions of ' + model.name + ' on J')\n",
    "        eval_result = em.eval_matches(predictions, 'gold', 'predicted')\n",
    "        em.print_eval_summary(eval_result)\n",
    "        print ('\\n\\n')"
   ]
  },
  {
   "cell_type": "code",
   "execution_count": 102,
   "metadata": {
    "collapsed": false,
    "deletable": true,
    "editable": true
   },
   "outputs": [
    {
     "name": "stdout",
     "output_type": "stream",
     "text": [
      "Predictions of DecisionTree on J\n",
      "Precision : 93.33% (70/75)\n",
      "Recall : 93.33% (70/75)\n",
      "F1 : 93.33%\n",
      "False positives : 5 (out of 75 positive predictions)\n",
      "False negatives : 5 (out of 58 negative predictions)\n",
      "\n",
      "\n",
      "\n",
      "Predictions of SVM on J\n",
      "Precision : 100.0% (50/50)\n",
      "Recall : 66.67% (50/75)\n",
      "F1 : 80.0%\n",
      "False positives : 0 (out of 50 positive predictions)\n",
      "False negatives : 25 (out of 83 negative predictions)\n",
      "\n",
      "\n",
      "\n",
      "Predictions of RF on J\n",
      "Precision : 98.57% (69/70)\n",
      "Recall : 92.0% (69/75)\n",
      "F1 : 95.17%\n",
      "False positives : 1 (out of 70 positive predictions)\n",
      "False negatives : 6 (out of 63 negative predictions)\n",
      "\n",
      "\n",
      "\n",
      "Predictions of LogReg on J\n",
      "Precision : 98.55% (68/69)\n",
      "Recall : 90.67% (68/75)\n",
      "F1 : 94.44%\n",
      "False positives : 1 (out of 69 positive predictions)\n",
      "False negatives : 7 (out of 64 negative predictions)\n",
      "\n",
      "\n",
      "\n",
      "Predictions of LinReg on J\n",
      "Precision : 98.59% (70/71)\n",
      "Recall : 93.33% (70/75)\n",
      "F1 : 95.89%\n",
      "False positives : 1 (out of 71 positive predictions)\n",
      "False negatives : 5 (out of 62 negative predictions)\n",
      "\n",
      "\n",
      "\n",
      "Predictions of NaiveBayes on J\n",
      "Precision : 95.52% (64/67)\n",
      "Recall : 85.33% (64/75)\n",
      "F1 : 90.14%\n",
      "False positives : 3 (out of 67 positive predictions)\n",
      "False negatives : 11 (out of 66 negative predictions)\n",
      "\n",
      "\n",
      "\n"
     ]
    }
   ],
   "source": [
    "train(models)"
   ]
  },
  {
   "cell_type": "code",
   "execution_count": 84,
   "metadata": {
    "collapsed": false,
    "deletable": true,
    "editable": true
   },
   "outputs": [],
   "source": [
    "# Train using feature vectors from I \n",
    "ln.fit(table=H, \n",
    "       exclude_attrs=['_id', 'ltable_id', 'rtable_id', 'gold'], \n",
    "       target_attr='gold')\n",
    "\n",
    "# Convert J into a set of feature vectors using F\n",
    "L = em.extract_feature_vecs(J, feature_table=feature_table,\n",
    "                            attrs_after='gold', show_progress=False)\n",
    "\n",
    "# Predict on L \n",
    "predictions = ln.predict(table=L, exclude_attrs=['_id', 'ltable_id', 'rtable_id', 'gold'], \n",
    "              append=True, target_attr='predicted', inplace=False)"
   ]
  },
  {
   "cell_type": "code",
   "execution_count": 85,
   "metadata": {
    "collapsed": false,
    "deletable": true,
    "editable": true
   },
   "outputs": [
    {
     "name": "stdout",
     "output_type": "stream",
     "text": [
      "Predictions of DT on J\n",
      "Precision : 98.59% (70/71)\n",
      "Recall : 93.33% (70/75)\n",
      "F1 : 95.89%\n",
      "False positives : 1 (out of 71 positive predictions)\n",
      "False negatives : 5 (out of 62 negative predictions)\n"
     ]
    }
   ],
   "source": [
    "# Evaluate the predictions\n",
    "print ('Predictions of DT on J')\n",
    "eval_result = em.eval_matches(predictions, 'gold', 'predicted')\n",
    "em.print_eval_summary(eval_result)"
   ]
  },
  {
   "cell_type": "code",
   "execution_count": null,
   "metadata": {
    "collapsed": true,
    "deletable": true,
    "editable": true
   },
   "outputs": [],
   "source": []
  }
 ],
 "metadata": {
  "kernelspec": {
   "display_name": "Python 3",
   "language": "python",
   "name": "python3"
  },
  "language_info": {
   "codemirror_mode": {
    "name": "ipython",
    "version": 3
   },
   "file_extension": ".py",
   "mimetype": "text/x-python",
   "name": "python",
   "nbconvert_exporter": "python",
   "pygments_lexer": "ipython3",
   "version": "3.6.1"
  }
 },
 "nbformat": 4,
 "nbformat_minor": 2
}
